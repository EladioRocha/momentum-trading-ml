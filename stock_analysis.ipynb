{
 "cells": [
  {
   "attachments": {},
   "cell_type": "markdown",
   "metadata": {},
   "source": [
    "# Introduction\n",
    "\n",
    "I'm going to review different stocks and do the timseries analysis on them. The goal is to find the stocks that are non-stationary and check what is the result of the hurst exponent and get the stock with higher value in the hurst exponent because it will be useful for our momentum trading strategy.\n",
    "\n",
    "I'm going to work with daily data from yahoo finance.\n",
    "\n",
    "**Steps to follow:**\n",
    "\n",
    "1 - Import the libraries\n",
    "\n",
    "2 - Get the data from yahoo finance\n",
    "\n",
    "3 - Analyze timeseries using adfuller test and hurst exponent\n",
    "\n",
    "4 - Get the stocks with a hurst exponent greater than a defined threshold and plot them\n",
    "\n",
    "5 - Calculate the volatility of the selected stocks and in my case, I'm going to select the stock with lowest and highest volatility to do the momentum trading strategy\n",
    "\n",
    "6 - According to the hurst exponent and the visual analysis, select the stocks that are non-stationary and get the best one for our momentum trading strategy.\n",
    "\n",
    "## Syllabus\n",
    "\n",
    "* [1 - Import the libraries](#1)\n",
    "* [2 - Get data](#2)\n",
    "* [3 - Selection timeseries for momentum trading strategy](#3)\n",
    "* [4 - Analyze selected stocks](#4)\n",
    "  * [4.1 - Analyze stock with highest volatility](#4.1)\n",
    "  * [4.2 - Analyze stock with lowest volatility](#4.2)"
   ]
  },
  {
   "attachments": {},
   "cell_type": "markdown",
   "metadata": {},
   "source": [
    "## 1 - Import the libraries <a id=\"1\"></a>"
   ]
  },
  {
   "cell_type": "code",
   "execution_count": 8,
   "metadata": {},
   "outputs": [],
   "source": [
    "import yfinance as yf\n",
    "import pandas as pd\n",
    "import numpy as np\n",
    "import matplotlib.pyplot as plt\n",
    "import seaborn as sns\n",
    "from statsmodels.tsa.stattools import adfuller\n",
    "import datetime\n",
    "import os\n",
    "from hurst import compute_Hc\n",
    "from typing import List"
   ]
  },
  {
   "cell_type": "code",
   "execution_count": 9,
   "metadata": {},
   "outputs": [],
   "source": [
    "def get_stocks(tickers: List[str], start_date: str = '2000-01-01', \n",
    "               end_date: str = datetime.datetime.today().strftime('%Y-%m-%d')) -> pd.DataFrame:\n",
    "    \"\"\"\n",
    "    Download historical stock data for the specified tickers.\n",
    "\n",
    "    Parameters:\n",
    "    ----------\n",
    "    tickers : List[str]\n",
    "        A list of ticker symbols to download data for.\n",
    "    start_date : str, optional (default='2000-01-01')\n",
    "        The start date for the data download in YYYY-MM-DD format.\n",
    "    end_date : str, optional (default=today's date in YYYY-MM-DD format)\n",
    "        The end date for the data download in YYYY-MM-DD format.\n",
    "\n",
    "    Returns:\n",
    "    -------\n",
    "    pd.DataFrame\n",
    "        A Pandas DataFrame containing the Open, High, Low, Close, and Volume data\n",
    "        for the specified tickers and date range.\n",
    "    \"\"\"\n",
    "    ohlc = yf.download(tickers, start=start_date, end=end_date, interval='1d')\n",
    "    return ohlc"
   ]
  },
  {
   "cell_type": "code",
   "execution_count": 10,
   "metadata": {},
   "outputs": [],
   "source": [
    "def remove_sparse_columns(df: pd.DataFrame, min_rows: int = 5000) -> pd.DataFrame:\n",
    "    \"\"\"\n",
    "    Remove sparse columns from a Pandas DataFrame.\n",
    "\n",
    "    Parameters:\n",
    "    ----------\n",
    "    df : pd.DataFrame\n",
    "        A Pandas DataFrame to remove sparse columns from.\n",
    "    min_rows : int, optional (default=5000)\n",
    "        The minimum number of non-null values a column must have to be kept.\n",
    "\n",
    "    Returns:\n",
    "    -------\n",
    "    pd.DataFrame\n",
    "        A new Pandas DataFrame with sparse columns removed.\n",
    "    \"\"\"\n",
    "    df_copy = df.copy()\n",
    "\n",
    "    # Get columns with at least `min_rows` non-null values. More data is better.\n",
    "    columns_with_non_null_values = df_copy.count()[df_copy.count() >= min_rows].index\n",
    "\n",
    "    # Remove columns with null values\n",
    "    df_copy = df_copy[columns_with_non_null_values]\n",
    "    df_copy = df_copy.dropna(axis=1)\n",
    "\n",
    "    return df_copy"
   ]
  },
  {
   "cell_type": "code",
   "execution_count": 11,
   "metadata": {},
   "outputs": [],
   "source": [
    "def normalize_df(df: pd.DataFrame, column: str = 'Adj Close', column_index: str = 'Date') -> pd.DataFrame:\n",
    "    \"\"\"\n",
    "    Normalize a Pandas DataFrame by renaming columns and the index.\n",
    "\n",
    "    Parameters:\n",
    "    ----------\n",
    "    df : pd.DataFrame\n",
    "        A Pandas DataFrame to be normalized.\n",
    "    column : str, optional (default='Adj Close')\n",
    "        The column name to use for the normalized DataFrame.\n",
    "    column_index : str, optional (default='Date')\n",
    "        The name to use for the index of the normalized DataFrame.\n",
    "\n",
    "    Returns:\n",
    "    -------\n",
    "    pd.DataFrame\n",
    "        A new Pandas DataFrame with normalized column names and index.\n",
    "    \"\"\"\n",
    "    df_copy = df.copy()\n",
    "\n",
    "    # If the DataFrame has multi-level columns, select the specified column\n",
    "    if df.columns.nlevels > 1:\n",
    "        df_copy = df_copy[column]\n",
    "        df_copy.index = df_copy.index.get_level_values(column_index)\n",
    "\n",
    "    # Rename columns and index to remove special characters and convert to lowercase\n",
    "    df_copy.columns = df_copy.columns.str.replace('[^0-9a-zA-Z]+', '_', regex=True).str.lower()\n",
    "    df_copy.index.name = df_copy.index.name.lower()\n",
    "\n",
    "    return df_copy"
   ]
  },
  {
   "attachments": {},
   "cell_type": "markdown",
   "metadata": {},
   "source": [
    "## 2 - Get data <a id=\"2\"></a>\n",
    "\n",
    "We have a file that contains the list of stocks that we want to analyze. We are going to read the file and get the list of stocks. Then, we are going to get the data from yahoo finance if we don't have it in our local machine. If we have a file called stocks.csv, we are going to read it and get the data from there."
   ]
  },
  {
   "cell_type": "code",
   "execution_count": 12,
   "metadata": {},
   "outputs": [
    {
     "data": {
      "text/html": [
       "<div>\n",
       "<style scoped>\n",
       "    .dataframe tbody tr th:only-of-type {\n",
       "        vertical-align: middle;\n",
       "    }\n",
       "\n",
       "    .dataframe tbody tr th {\n",
       "        vertical-align: top;\n",
       "    }\n",
       "\n",
       "    .dataframe thead th {\n",
       "        text-align: right;\n",
       "    }\n",
       "</style>\n",
       "<table border=\"1\" class=\"dataframe\">\n",
       "  <thead>\n",
       "    <tr style=\"text-align: right;\">\n",
       "      <th></th>\n",
       "      <th>Ticker</th>\n",
       "      <th>Name</th>\n",
       "      <th>Exchange</th>\n",
       "    </tr>\n",
       "  </thead>\n",
       "  <tbody>\n",
       "    <tr>\n",
       "      <th>0</th>\n",
       "      <td>A</td>\n",
       "      <td>Agilent Technologies</td>\n",
       "      <td>NYSE</td>\n",
       "    </tr>\n",
       "    <tr>\n",
       "      <th>1</th>\n",
       "      <td>AA</td>\n",
       "      <td>Alcoa Inc.</td>\n",
       "      <td>NYSE</td>\n",
       "    </tr>\n",
       "    <tr>\n",
       "      <th>2</th>\n",
       "      <td>AAN</td>\n",
       "      <td>Aaron's Inc</td>\n",
       "      <td>NYSE</td>\n",
       "    </tr>\n",
       "    <tr>\n",
       "      <th>3</th>\n",
       "      <td>AAT</td>\n",
       "      <td>American Assets Trust</td>\n",
       "      <td>NYSE</td>\n",
       "    </tr>\n",
       "    <tr>\n",
       "      <th>4</th>\n",
       "      <td>AAV</td>\n",
       "      <td>Advantage Oil &amp; Gas Ltd</td>\n",
       "      <td>NYSE</td>\n",
       "    </tr>\n",
       "    <tr>\n",
       "      <th>...</th>\n",
       "      <td>...</td>\n",
       "      <td>...</td>\n",
       "      <td>...</td>\n",
       "    </tr>\n",
       "    <tr>\n",
       "      <th>5777</th>\n",
       "      <td>ZN</td>\n",
       "      <td>Zion Oil &amp; Gas Inc</td>\n",
       "      <td>NASDAQ</td>\n",
       "    </tr>\n",
       "    <tr>\n",
       "      <th>5778</th>\n",
       "      <td>ZNGA</td>\n",
       "      <td>Zynga Inc.</td>\n",
       "      <td>NASDAQ</td>\n",
       "    </tr>\n",
       "    <tr>\n",
       "      <th>5779</th>\n",
       "      <td>ZOLT</td>\n",
       "      <td>Zoltek Companies</td>\n",
       "      <td>NASDAQ</td>\n",
       "    </tr>\n",
       "    <tr>\n",
       "      <th>5780</th>\n",
       "      <td>ZOOM</td>\n",
       "      <td>Zoom Technologies</td>\n",
       "      <td>NASDAQ</td>\n",
       "    </tr>\n",
       "    <tr>\n",
       "      <th>5781</th>\n",
       "      <td>ZUMZ</td>\n",
       "      <td>Zumiez Inc.</td>\n",
       "      <td>NASDAQ</td>\n",
       "    </tr>\n",
       "  </tbody>\n",
       "</table>\n",
       "<p>5782 rows × 3 columns</p>\n",
       "</div>"
      ],
      "text/plain": [
       "     Ticker                     Name Exchange\n",
       "0         A     Agilent Technologies     NYSE\n",
       "1        AA               Alcoa Inc.     NYSE\n",
       "2       AAN              Aaron's Inc     NYSE\n",
       "3       AAT    American Assets Trust     NYSE\n",
       "4       AAV  Advantage Oil & Gas Ltd     NYSE\n",
       "...     ...                      ...      ...\n",
       "5777     ZN       Zion Oil & Gas Inc   NASDAQ\n",
       "5778   ZNGA               Zynga Inc.   NASDAQ\n",
       "5779   ZOLT         Zoltek Companies   NASDAQ\n",
       "5780   ZOOM        Zoom Technologies   NASDAQ\n",
       "5781   ZUMZ              Zumiez Inc.   NASDAQ\n",
       "\n",
       "[5782 rows x 3 columns]"
      ]
     },
     "execution_count": 12,
     "metadata": {},
     "output_type": "execute_result"
    }
   ],
   "source": [
    "pd.read_csv('assets/stock_info.csv')"
   ]
  },
  {
   "cell_type": "code",
   "execution_count": 13,
   "metadata": {},
   "outputs": [],
   "source": [
    "tickers = pd.read_csv('assets/stock_info.csv')[['Ticker']].rename(columns={'Ticker': 'ticker'}).values.flatten().tolist()"
   ]
  },
  {
   "cell_type": "code",
   "execution_count": 14,
   "metadata": {},
   "outputs": [
    {
     "data": {
      "text/plain": [
       "['A', 'AA', 'AAN', 'AAT', 'AAV']"
      ]
     },
     "execution_count": 14,
     "metadata": {},
     "output_type": "execute_result"
    }
   ],
   "source": [
    "tickers[:5]"
   ]
  },
  {
   "cell_type": "code",
   "execution_count": 15,
   "metadata": {},
   "outputs": [],
   "source": [
    "loaded_from_file = False\n",
    "if os.path.exists('assets/stocks.csv'):\n",
    "    stocks = pd.read_csv('assets/stocks.csv', index_col=0)\n",
    "    loaded_from_file = True\n",
    "else:\n",
    "    stocks = get_stocks(tickers)\n",
    "    stocks.to_csv('assets/stocks.csv')"
   ]
  },
  {
   "cell_type": "code",
   "execution_count": 16,
   "metadata": {},
   "outputs": [],
   "source": [
    "if not loaded_from_file:\n",
    "    stocks = normalize_df(stocks)"
   ]
  },
  {
   "cell_type": "code",
   "execution_count": 17,
   "metadata": {},
   "outputs": [],
   "source": [
    "stocks = remove_sparse_columns(stocks, min_rows=5000)"
   ]
  },
  {
   "cell_type": "code",
   "execution_count": 18,
   "metadata": {},
   "outputs": [
    {
     "data": {
      "text/plain": [
       "(5827, 593)"
      ]
     },
     "execution_count": 18,
     "metadata": {},
     "output_type": "execute_result"
    }
   ],
   "source": [
    "stocks.shape"
   ]
  },
  {
   "attachments": {},
   "cell_type": "markdown",
   "metadata": {},
   "source": [
    "## 3 - Selection timeseries for momentum trading strategy <a id=\"3\"></a>\n",
    "\n",
    "In this section we are going to select the stocks that are non-stationary and get the best one for our momentum trading strategy. We are going to use the hurst exponent to get the stocks that the hurst exponent is greater than a defined threshold. We are going to use the adfuller test to check if the timeseries is stationary or not.\n",
    "\n",
    "**Hurst exponent threshold:** 0.6\n",
    "\n",
    "**P value threshold:** 0.05"
   ]
  },
  {
   "cell_type": "code",
   "execution_count": 19,
   "metadata": {},
   "outputs": [],
   "source": [
    "def get_non_stationary_stocks(df: pd.DataFrame) -> pd.DataFrame:\n",
    "    \"\"\"\n",
    "    Identify and remove non-stationary stock timeseries from a DataFrame using the Augmented Dickey-Fuller test.\n",
    "    \n",
    "    Parameters\n",
    "    ----------\n",
    "    df : pandas.DataFrame\n",
    "        Input DataFrame containing the stock timeseries data.\n",
    "    \n",
    "    Returns\n",
    "    -------\n",
    "    pandas.DataFrame\n",
    "        DataFrame containing only the stationary stock timeseries data.\n",
    "    \n",
    "    Raises\n",
    "    ------\n",
    "    ValueError\n",
    "        If the input DataFrame is empty or contains only non-numeric data.\n",
    "    \"\"\"\n",
    "    selected_stocks = df.copy()\n",
    "\n",
    "    count = 0\n",
    "\n",
    "    for ticker in df.columns:\n",
    "        pvalue = adfuller(df[ticker])[1]\n",
    "\n",
    "        if pvalue < 0.05:\n",
    "            selected_stocks = selected_stocks.drop(ticker, axis=1)\n",
    "            count += 1\n",
    "\n",
    "    print(f'{count} non-stationary stock timeseries removed')\n",
    "\n",
    "    return selected_stocks"
   ]
  },
  {
   "cell_type": "code",
   "execution_count": 20,
   "metadata": {},
   "outputs": [],
   "source": [
    "def get_trending_stocks(df: pd.DataFrame, threshold: float = 0.5) -> pd.DataFrame:\n",
    "    \"\"\"\n",
    "    Identify and remove non-trending stock timeseries from a DataFrame using the Hurst exponent.\n",
    "    \n",
    "    Parameters\n",
    "    ----------\n",
    "    df : pandas.DataFrame\n",
    "        Input DataFrame containing the stock timeseries data.\n",
    "    threshold : float, optional\n",
    "        Threshold value for the Hurst exponent below which a stock timeseries is considered non-trending.\n",
    "        Default is 0.5.\n",
    "    \n",
    "    Returns\n",
    "    -------\n",
    "    pandas.DataFrame\n",
    "        DataFrame containing only the trending stock timeseries data.\n",
    "    \n",
    "    Raises\n",
    "    ------\n",
    "    ValueError\n",
    "        If the input DataFrame is empty or contains only non-numeric data.\n",
    "    \"\"\"\n",
    "    selected_stocks = df.copy()\n",
    "\n",
    "    count = 0\n",
    "\n",
    "    for ticker in df.columns:\n",
    "        try:\n",
    "            # Compute the Hurst exponent using the random walk method\n",
    "            H, _, _ = compute_Hc(df[ticker], kind='random_walk', simplified=True)\n",
    "        except:\n",
    "            # If an exception is raised (usually due to negative prices), set H to 0.0\n",
    "            H = 0.0\n",
    "\n",
    "        if H <= threshold:\n",
    "            selected_stocks = selected_stocks.drop(ticker, axis=1)\n",
    "            count += 1\n",
    "\n",
    "    print(f'{count} non-trending stock timeseries removed')\n",
    "\n",
    "    return selected_stocks"
   ]
  },
  {
   "cell_type": "code",
   "execution_count": 21,
   "metadata": {},
   "outputs": [],
   "source": [
    "selected_stocks = get_non_stationary_stocks(stocks)"
   ]
  },
  {
   "cell_type": "code",
   "execution_count": null,
   "metadata": {},
   "outputs": [],
   "source": [
    "selected_stocks = get_trending_stocks(selected_stocks, threshold=0.6)"
   ]
  },
  {
   "cell_type": "code",
   "execution_count": null,
   "metadata": {},
   "outputs": [],
   "source": [
    "selected_stocks.head(3)"
   ]
  },
  {
   "cell_type": "code",
   "execution_count": null,
   "metadata": {},
   "outputs": [],
   "source": [
    "selected_stocks.shape"
   ]
  },
  {
   "attachments": {},
   "cell_type": "markdown",
   "metadata": {},
   "source": [
    "### 4 - Analyze selected stocks <a id=\"4\"></a>\n",
    "\n",
    "We are going to analyze the stock with highest and lowest volatility in order to see if is better to use the stock with highest volatility or the stock with lowest volatility."
   ]
  },
  {
   "cell_type": "code",
   "execution_count": null,
   "metadata": {},
   "outputs": [],
   "source": [
    "stock_returns = np.log(selected_stocks / selected_stocks.shift(1)).dropna()\n",
    "stocks_volatility = pd.DataFrame(stock_returns.std(), columns=['volatility'])\n",
    "stocks_volatility['annual_volatility'] = stocks_volatility['volatility'] * np.sqrt(252)"
   ]
  },
  {
   "cell_type": "code",
   "execution_count": null,
   "metadata": {},
   "outputs": [],
   "source": [
    "stocks_volatility['volatility'].sort_values(ascending=False).plot(kind='bar', figsize=(20, 10))"
   ]
  },
  {
   "cell_type": "code",
   "execution_count": null,
   "metadata": {},
   "outputs": [],
   "source": [
    "window = 14"
   ]
  },
  {
   "attachments": {},
   "cell_type": "markdown",
   "metadata": {},
   "source": [
    "#### 4.1 - Analyze stock with highest volatility <a id=\"4.1\"></a>"
   ]
  },
  {
   "cell_type": "code",
   "execution_count": null,
   "metadata": {},
   "outputs": [],
   "source": [
    "most_volatile_stock = stocks_volatility['volatility'].sort_values(ascending=False).index[0]\n",
    "(stock_returns[most_volatile_stock].rolling(window).std() * 100).plot(figsize=(20, 10))\n",
    "monthly_returns = pd.DataFrame()\n",
    "monthly_returns.plot(figsize=(20, 10))"
   ]
  },
  {
   "attachments": {},
   "cell_type": "markdown",
   "metadata": {},
   "source": [
    "#### 4.2 - Analyze stock with lowest volatility <a id=\"4.2\"></a>"
   ]
  },
  {
   "cell_type": "code",
   "execution_count": null,
   "metadata": {},
   "outputs": [],
   "source": [
    "least_volatile_stock = stocks_volatility['volatility'].sort_values(ascending=False).index[-1]\n",
    "(stock_returns[least_volatile_stock].rolling(window).std() * 100).plot(figsize=(20, 10))"
   ]
  },
  {
   "cell_type": "code",
   "execution_count": null,
   "metadata": {},
   "outputs": [],
   "source": []
  }
 ],
 "metadata": {
  "kernelspec": {
   "display_name": "python_3.7",
   "language": "python",
   "name": "python3"
  },
  "language_info": {
   "codemirror_mode": {
    "name": "ipython",
    "version": 3
   },
   "file_extension": ".py",
   "mimetype": "text/x-python",
   "name": "python",
   "nbconvert_exporter": "python",
   "pygments_lexer": "ipython3",
   "version": "3.7.13"
  },
  "orig_nbformat": 4
 },
 "nbformat": 4,
 "nbformat_minor": 2
}
