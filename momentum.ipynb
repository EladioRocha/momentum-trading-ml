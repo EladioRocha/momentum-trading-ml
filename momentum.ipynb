{
 "cells": [
  {
   "attachments": {},
   "cell_type": "markdown",
   "metadata": {},
   "source": [
    "# Introduction\n",
    "\n",
    "This notebook it will be used to create a momentum trading strategy. We are going to add momentum indicators to our strategy and see how it performs. Also, we will do some backtesting to see the results of our strategy.\n",
    "\n",
    "We are going to use machine learning models to predict the signal of the strategy. The main idea is to use the technical indicators and the momentum indicators to predict the signal of the strategy and determine if it is better to buy or sell the stock.\n",
    "\n",
    "The following models will be used:\n",
    "\n",
    "* Logistic Regression\n",
    "* Random Forest\n",
    "* Neural Networks\n",
    "\n",
    "**Steps to follow:**\n",
    "\n",
    "1. Import the libraries\n",
    "\n",
    "2. Import the data\n",
    "\n",
    "3. Add technical indicators, signal and momentum indicators\n",
    "\n",
    "4. Apply machine learning models to predict the signal\n",
    "\n",
    "5. Vectorized Backtesting\n",
    "\n",
    "6. Visualize the results"
   ]
  },
  {
   "cell_type": "code",
   "execution_count": 1,
   "metadata": {},
   "outputs": [],
   "source": [
    "import pandas as pd\n",
    "import numpy as np\n",
    "import talib as ta\n",
    "import matplotlib.pyplot as plt\n",
    "from sklearn.preprocessing import StandardScaler\n",
    "from sklearn.metrics import matthews_corrcoef, confusion_matrix, accuracy_score, precision_score, recall_score, f1_score\n",
    "import quantstats as qs\n",
    "\n",
    "import process_data\n",
    "import ml\n",
    "import backtest"
   ]
  },
  {
   "cell_type": "code",
   "execution_count": 2,
   "metadata": {},
   "outputs": [],
   "source": [
    "selected_stocks = pd.read_csv('./assets/selected_stocks.csv', index_col=0, parse_dates=True)\n",
    "df_tve = selected_stocks[['tve']]\n",
    "df_aapl = selected_stocks[['aapl']]"
   ]
  },
  {
   "cell_type": "code",
   "execution_count": 3,
   "metadata": {},
   "outputs": [],
   "source": [
    "df_aapl = process_data.set_technical_indicators_and_signals(df_aapl, column_prices='aapl')\n",
    "df_aapl = process_data.set_targeet(df_aapl, horizon=3, column_prices='aapl')"
   ]
  },
  {
   "cell_type": "code",
   "execution_count": 4,
   "metadata": {},
   "outputs": [
    {
     "data": {
      "text/html": [
       "<div>\n",
       "<style scoped>\n",
       "    .dataframe tbody tr th:only-of-type {\n",
       "        vertical-align: middle;\n",
       "    }\n",
       "\n",
       "    .dataframe tbody tr th {\n",
       "        vertical-align: top;\n",
       "    }\n",
       "\n",
       "    .dataframe thead th {\n",
       "        text-align: right;\n",
       "    }\n",
       "</style>\n",
       "<table border=\"1\" class=\"dataframe\">\n",
       "  <thead>\n",
       "    <tr style=\"text-align: right;\">\n",
       "      <th></th>\n",
       "      <th>aapl</th>\n",
       "      <th>xs_rsi_14</th>\n",
       "      <th>x_rsi_pos_14</th>\n",
       "      <th>x_macd_pos_9_21_9</th>\n",
       "      <th>xs_macd_9_21_9</th>\n",
       "      <th>xs_macd_signal_9_21_9</th>\n",
       "      <th>target</th>\n",
       "    </tr>\n",
       "    <tr>\n",
       "      <th>date</th>\n",
       "      <th></th>\n",
       "      <th></th>\n",
       "      <th></th>\n",
       "      <th></th>\n",
       "      <th></th>\n",
       "      <th></th>\n",
       "      <th></th>\n",
       "    </tr>\n",
       "  </thead>\n",
       "  <tbody>\n",
       "    <tr>\n",
       "      <th>2000-03-03</th>\n",
       "      <td>0.982746</td>\n",
       "      <td>60.681822</td>\n",
       "      <td>1.0</td>\n",
       "      <td>1</td>\n",
       "      <td>0.037319</td>\n",
       "      <td>0.027247</td>\n",
       "      <td>-1.0</td>\n",
       "    </tr>\n",
       "    <tr>\n",
       "      <th>2000-03-06</th>\n",
       "      <td>0.964992</td>\n",
       "      <td>58.447633</td>\n",
       "      <td>1.0</td>\n",
       "      <td>1</td>\n",
       "      <td>0.038650</td>\n",
       "      <td>0.029528</td>\n",
       "      <td>-1.0</td>\n",
       "    </tr>\n",
       "    <tr>\n",
       "      <th>2000-03-07</th>\n",
       "      <td>0.943398</td>\n",
       "      <td>55.758650</td>\n",
       "      <td>1.0</td>\n",
       "      <td>1</td>\n",
       "      <td>0.036559</td>\n",
       "      <td>0.030934</td>\n",
       "      <td>1.0</td>\n",
       "    </tr>\n",
       "    <tr>\n",
       "      <th>2000-03-08</th>\n",
       "      <td>0.936681</td>\n",
       "      <td>54.912340</td>\n",
       "      <td>1.0</td>\n",
       "      <td>1</td>\n",
       "      <td>0.033641</td>\n",
       "      <td>0.031475</td>\n",
       "      <td>-1.0</td>\n",
       "    </tr>\n",
       "    <tr>\n",
       "      <th>2000-03-09</th>\n",
       "      <td>0.938600</td>\n",
       "      <td>55.121897</td>\n",
       "      <td>1.0</td>\n",
       "      <td>-1</td>\n",
       "      <td>0.031116</td>\n",
       "      <td>0.031403</td>\n",
       "      <td>-1.0</td>\n",
       "    </tr>\n",
       "  </tbody>\n",
       "</table>\n",
       "</div>"
      ],
      "text/plain": [
       "                aapl  xs_rsi_14  x_rsi_pos_14  x_macd_pos_9_21_9  \\\n",
       "date                                                               \n",
       "2000-03-03  0.982746  60.681822           1.0                  1   \n",
       "2000-03-06  0.964992  58.447633           1.0                  1   \n",
       "2000-03-07  0.943398  55.758650           1.0                  1   \n",
       "2000-03-08  0.936681  54.912340           1.0                  1   \n",
       "2000-03-09  0.938600  55.121897           1.0                 -1   \n",
       "\n",
       "            xs_macd_9_21_9  xs_macd_signal_9_21_9  target  \n",
       "date                                                       \n",
       "2000-03-03        0.037319               0.027247    -1.0  \n",
       "2000-03-06        0.038650               0.029528    -1.0  \n",
       "2000-03-07        0.036559               0.030934     1.0  \n",
       "2000-03-08        0.033641               0.031475    -1.0  \n",
       "2000-03-09        0.031116               0.031403    -1.0  "
      ]
     },
     "execution_count": 4,
     "metadata": {},
     "output_type": "execute_result"
    }
   ],
   "source": [
    "df_aapl.head()"
   ]
  },
  {
   "cell_type": "code",
   "execution_count": 5,
   "metadata": {},
   "outputs": [],
   "source": [
    "# df_train, df_validation = process_data.get_train_and_validation_df(df_aapl, train_size=0.8)\n",
    "# X, y = process_data.get_X_y(df_train)"
   ]
  },
  {
   "cell_type": "code",
   "execution_count": 6,
   "metadata": {},
   "outputs": [],
   "source": [
    "def print_up_down_counts(predictions):\n",
    "    up_count = 0\n",
    "    down_count = 0\n",
    "    for p in predictions:\n",
    "        for i in p.index:\n",
    "            if p[i] > 0.5:\n",
    "                up_count += 1\n",
    "            else:\n",
    "                down_count += 1\n",
    "\n",
    "    print(f'Up count: {up_count}')\n",
    "    print(f'Down count: {down_count}')"
   ]
  },
  {
   "cell_type": "code",
   "execution_count": 7,
   "metadata": {},
   "outputs": [],
   "source": [
    "def set_prediction_column(df, predictions):\n",
    "    for p in predictions:\n",
    "    # Add the predictions to the dataframe\n",
    "        # Where the dataframe has a date that is in the predictions, add the prediction\n",
    "        for i in p.index:\n",
    "            # If the prediction is greater than 0.5, set the prediction to 1\n",
    "            if p[i] > 0.5:\n",
    "                df.loc[i, 'prediction'] = 1\n",
    "            else:\n",
    "                df.loc[i, 'prediction'] = -1\n",
    "\n"
   ]
  },
  {
   "cell_type": "code",
   "execution_count": 8,
   "metadata": {},
   "outputs": [],
   "source": [
    "def handle_ml_model(df, model_name, model=None):\n",
    "    if model == None:\n",
    "        model = ml.create_model(model_name)\n",
    "    X, y = process_data.get_X_y(df)\n",
    "    scores, predictions = ml.walkforward_with_purging_and_embargos(\n",
    "        model=model,\n",
    "        X=X,\n",
    "        y=y,\n",
    "        purged_window_size=0,\n",
    "        embargo_period=2,\n",
    "        lookback=100,\n",
    "        test_size=10,\n",
    "        scaler=StandardScaler(),\n",
    "        scorer=matthews_corrcoef,\n",
    "    )\n",
    "    print_up_down_counts(predictions)\n",
    "    set_prediction_column(df, predictions)\n",
    "    return scores, predictions, X, y, df, model"
   ]
  },
  {
   "cell_type": "code",
   "execution_count": 9,
   "metadata": {},
   "outputs": [],
   "source": [
    "# param_grid = {\n",
    "#  'bootstrap': [True, False],\n",
    "#  'bootstrap_features': [True, False],    \n",
    "#  'n_estimators': [5, 10, 15],\n",
    "#  'max_samples' : [0.6, 0.8, 1.0],\n",
    "#  'base_estimator__bootstrap': [True, False],    \n",
    "#  'base_estimator__n_estimators': [50, 75, 100, 200, 300],\n",
    "#  'base_estimator__max_features' : [0.6, 0.8, 1.0]\n",
    "# }"
   ]
  },
  {
   "cell_type": "code",
   "execution_count": 10,
   "metadata": {},
   "outputs": [],
   "source": [
    "df_train_rf, df_validation_rf = process_data.get_train_and_validation_df(df_aapl, train_size=0.8)\n",
    "\n",
    "scores_train_rf, predicton_train_rf, X_train_rf, y_train_rf, df_train_2_rf, model = handle_ml_model(df_train_rf, 'random_forest')\n",
    "scores_validation_rf, predicton_validation_rf, X_validation_rf, y_validation_rf, df_validation_2_rf = handle_ml_model(df_validation_rf, 'random_forest', model=model)"
   ]
  },
  {
   "cell_type": "code",
   "execution_count": null,
   "metadata": {},
   "outputs": [],
   "source": [
    "df_train_2_rf.to_csv('./assets/df_train_rf.csv')\n",
    "df_validation_2_rf.to_csv('./assets/df_validation_rf. csv')"
   ]
  },
  {
   "cell_type": "code",
   "execution_count": null,
   "metadata": {},
   "outputs": [],
   "source": [
    "def remove_timezone(indf):\n",
    "    outdf = indf.copy()\n",
    "    outdf.index = outdf.index.tz_localize(None)\n",
    "    return outdf"
   ]
  },
  {
   "cell_type": "code",
   "execution_count": null,
   "metadata": {},
   "outputs": [],
   "source": [
    "def backtest_result(df, column_prices=None):\n",
    "    df['returns'] = df[column_prices].pct_change()\n",
    "    df['strategy'] = df['prediction'].shift(1) * df['returns']\n",
    "    df['creturns'] = (1 + df['strategy']).cumprod()\n",
    "    ann_ret = (df['creturns'].iloc[-1])**(252/len(df)) - 1\n",
    "    ann_vol = np.std(df['strategy']) * np.sqrt(252)\n",
    "    df['b&h'] = df['returns'].cumsum().apply(np.exp)\n",
    "\n",
    "    print(\"Annualized Return:\", ann_ret)\n",
    "    print(\"Annualized Volatility:\", ann_vol)\n",
    "\n",
    "    df[['creturns']].plot(figsize=(10, 6))\n",
    "    qs.reports.full(remove_timezone(df['creturns']), remove_timezone(df['b&h']))"
   ]
  },
  {
   "cell_type": "code",
   "execution_count": null,
   "metadata": {},
   "outputs": [],
   "source": [
    "backtest_result(df_validation_2_rf, column_prices='aapl')"
   ]
  },
  {
   "cell_type": "code",
   "execution_count": null,
   "metadata": {},
   "outputs": [],
   "source": [
    "df_train_svc, df_validation_svc = process_data.get_train_and_validation_df(df_aapl, train_size=0.8)\n",
    "\n",
    "scores_train_svc, predicton_train_svc, X_train_svc, y_train_svc, df_train_svc_2 = handle_ml_model(df_train_svc, 'svc')\n",
    "scores_validation_svc, predicton_validation_svc, X_validation_svc, y_validation_svc, df_validation_svc_2 = handle_ml_model(df_validation_svc, 'svc')"
   ]
  },
  {
   "cell_type": "code",
   "execution_count": null,
   "metadata": {},
   "outputs": [],
   "source": [
    "df_train_lr, df_validation_lr = process_data.get_train_and_validation_df(df_aapl, train_size=0.8)\n",
    "scores_train_lr, predicton_train_lr, X_train_lr, y_train_lr, df_train_lr_2 = handle_ml_model(df_train_lr, 'logistic_regression')\n",
    "scores_validation_lr, predicton_validation_lr, X_validation_lr, y_validation_lr, df_validation_lr_2 = handle_ml_model(df_validation_lr, 'logistic_regression')"
   ]
  },
  {
   "cell_type": "code",
   "execution_count": null,
   "metadata": {},
   "outputs": [],
   "source": [
    "backtest_result(df_validation_svc_2, column_prices='aapl')"
   ]
  },
  {
   "cell_type": "code",
   "execution_count": null,
   "metadata": {},
   "outputs": [],
   "source": [
    "backtest_result(df_validation_lr_2, column_prices='aapl')"
   ]
  },
  {
   "cell_type": "code",
   "execution_count": null,
   "metadata": {},
   "outputs": [],
   "source": [
    "df_validation_2_rf_copy = df_validation_2_rf.copy()"
   ]
  },
  {
   "cell_type": "code",
   "execution_count": null,
   "metadata": {},
   "outputs": [],
   "source": [
    "df_validation_2_rf_copy.tail()"
   ]
  },
  {
   "cell_type": "code",
   "execution_count": null,
   "metadata": {},
   "outputs": [],
   "source": [
    "# Remove nan values\n",
    "df_validation_2_rf_copy = df_validation_2_rf_copy.dropna()"
   ]
  },
  {
   "cell_type": "code",
   "execution_count": null,
   "metadata": {},
   "outputs": [],
   "source": [
    "# Change the value of prediction 0 to -1\n",
    "df_validation_2_rf_copy['prediction'] = df_validation_2_rf_copy['prediction'].replace(0, -1)"
   ]
  },
  {
   "cell_type": "code",
   "execution_count": null,
   "metadata": {},
   "outputs": [],
   "source": [
    "backtest_result(df_validation_2_rf_copy, column_prices='aapl')"
   ]
  },
  {
   "cell_type": "code",
   "execution_count": null,
   "metadata": {},
   "outputs": [],
   "source": [
    "df_validation_2_rf_copy['prediction']"
   ]
  },
  {
   "cell_type": "code",
   "execution_count": null,
   "metadata": {},
   "outputs": [],
   "source": [
    "df_validation_2_rf_copy['target']"
   ]
  },
  {
   "cell_type": "code",
   "execution_count": null,
   "metadata": {},
   "outputs": [],
   "source": [
    "def get_metrics(real, predicted):\n",
    "    matrix = confusion_matrix(real, predicted)\n",
    "    accuracy = accuracy_score(real, predicted)\n",
    "    precision = precision_score(real, predicted)\n",
    "    recall = recall_score(real, predicted)\n",
    "    f1 = f1_score(real, predicted)\n",
    "\n",
    "    return matrix, accuracy, precision, recall, f1"
   ]
  },
  {
   "cell_type": "code",
   "execution_count": null,
   "metadata": {},
   "outputs": [],
   "source": [
    "def visualize_metrics(real, predicted, title):\n",
    "    matrix, accuracy, precision, recall, f1 = get_metrics(real, predicted)\n",
    "\n",
    "    plt.figure(figsize=(3, 3))\n",
    "    matrix = pd.DataFrame(matrix, index=['Down', 'Up'], columns=['Down', 'Up'])\n",
    "    plt.matshow(matrix, cmap=plt.cm.Blues, alpha=0.3)\n",
    "    plt.title(title)\n",
    "    plt.ylabel('True label')\n",
    "    plt.xlabel('Predicted label')\n",
    "    plt.xticks([-1, 1], ['Down', 'Up'])\n",
    "    plt.yticks([-1, 1], ['Down', 'Up'])\n",
    "    tags = ['True Neg', 'False Pos', 'False Neg', 'True Pos']\n",
    "\n",
    "    for i in range(2):\n",
    "        for j in range(2):\n",
    "            plt.text(j, i, f'{tags[i*2+j]}: {matrix.iloc[i, j]}', ha='center', va='center', color='black')\n",
    "\n",
    "    print(f'Accuracy: {accuracy}')\n",
    "    print(f'Precision: {precision}')\n",
    "    print(f'Recall: {recall}')\n",
    "    print(f'F1: {f1}')\n",
    "\n",
    "\n",
    "    # plt.text(0, -0.5, f'Accuracy: {accuracy}', ha='center', va='center', color='black')\n",
    "    # plt.text(1, -0.5, f'Precision: {precision}', ha='center', va='center', color='black')\n",
    "    # plt.text(0, 2, f'Recall: {recall}', ha='center', va='center', color='black')\n",
    "    # plt.text(1, 2, f'F1: {f1}', ha='center', va='center', color='black')\n",
    "    \n",
    "    plt.show()"
   ]
  },
  {
   "cell_type": "code",
   "execution_count": null,
   "metadata": {},
   "outputs": [],
   "source": [
    "def visualize_metrics_v2(real, predicted, title):\n",
    "    \"\"\" Visualiza la matriz de confusión y métricas \"\"\"\n",
    "    \n",
    "    #Código para calcular las métricas y matriz de confusión\n",
    "    \n",
    "    matriz, accuracy, precision, recall, f1 = \\\n",
    "                    get_metrics(real, predicted)\n",
    "    \n",
    "    #Código de matplotlib para graficar \n",
    "    plt.figure(figsize=(3, 3))\n",
    "    matriz = pd.DataFrame(matriz, \n",
    "                          columns=[\"-1 : Down\", \"1 : Up\"])\n",
    "    plt.matshow(matriz, cmap=plt.cm.Blues, alpha=0.3)    \n",
    "    plt.title(\"True\")\n",
    "    plt.ylabel(\"Predichas\")\n",
    "    plt.xticks(range(len(matriz.columns)), matriz.columns, rotation=45)\n",
    "    plt.yticks(range(len(matriz.columns)), matriz.columns)\n",
    "    etiquetas = ((\"Verdaderos\\nnegativos\", \"Falsos\\npositivos\"),\n",
    "                 (\"Falsos\\nnegativos\", \"Verdaderos\\npositivos\"))\n",
    "    for i in range(len(matriz.columns)):\n",
    "        for j in range(len(matriz.columns)):\n",
    "            plt.text(i, j + 0.14, str(matriz.iloc[i, j]),\n",
    "                     fontsize=30, ha=\"center\", va=\"center\")\n",
    "            plt.text(i, j - 0.25, etiquetas[i][j],\n",
    "                     fontsize=11.5, ha=\"center\", va=\"center\")           \n",
    "    plt.text(1.60, -0.30, title, fontsize=25, c=\"red\")\n",
    "    plt.text(2.1, 0.10, \"Accuracy: %0.2f\" % accuracy, fontsize=20)\n",
    "    plt.text(2.1, 0.40, \"Precision: %0.2f\" % precision, fontsize=20)\n",
    "    plt.text(2.1, 0.70, \"Recall: %0.2f\" % recall, fontsize=20)\n",
    "    plt.text(2.1, 1.00, \"F1: %0.2f\" % f1, fontsize=20)    \n",
    "    plt.show()"
   ]
  },
  {
   "cell_type": "code",
   "execution_count": null,
   "metadata": {},
   "outputs": [],
   "source": [
    "visualize_metrics_v2(df_validation_2_rf_copy['target'], df_validation_2_rf_copy['prediction'], 'Random Forest')"
   ]
  },
  {
   "cell_type": "code",
   "execution_count": null,
   "metadata": {},
   "outputs": [],
   "source": [
    "df_validation_lr_2_copy = df_validation_lr_2.copy()\n",
    "# Remove nan values\n",
    "df_validation_lr_2_copy = df_validation_lr_2_copy.dropna()\n",
    "# Convert 0 to -1\n",
    "df_validation_lr_2_copy['prediction'] = df_validation_lr_2_copy['prediction'].replace(0, -1)"
   ]
  },
  {
   "cell_type": "code",
   "execution_count": null,
   "metadata": {},
   "outputs": [],
   "source": [
    "visualize_metrics_v2(df_validation_lr_2_copy['target'], df_validation_lr_2_copy['prediction'], 'Logistic Regression')"
   ]
  },
  {
   "cell_type": "code",
   "execution_count": null,
   "metadata": {},
   "outputs": [],
   "source": [
    "df_validation_svc_2_copy = df_validation_svc_2.copy()\n",
    "# Remove nan values\n",
    "df_validation_svc_2_copy = df_validation_svc_2_copy.dropna()\n",
    "# Convert 0 to -1\n",
    "df_validation_svc_2_copy['prediction'] = df_validation_svc_2_copy['prediction'].replace(0, -1)"
   ]
  },
  {
   "cell_type": "code",
   "execution_count": null,
   "metadata": {},
   "outputs": [],
   "source": [
    "visualize_metrics_v2(df_validation_svc_2_copy['target'], df_validation_svc_2_copy['prediction'], 'Support Vector Classifier')"
   ]
  },
  {
   "cell_type": "code",
   "execution_count": 12,
   "metadata": {},
   "outputs": [
    {
     "name": "stdout",
     "output_type": "stream",
     "text": [
      "[*********************100%***********************]  1 of 1 completed\n",
      "                              Close\n",
      "Date                               \n",
      "2010-01-04 00:00:00-05:00  7.643214\n",
      "2010-01-05 00:00:00-05:00  7.656429\n",
      "2010-01-06 00:00:00-05:00  7.534643\n",
      "2010-01-07 00:00:00-05:00  7.520714\n",
      "2010-01-08 00:00:00-05:00  7.570714\n"
     ]
    }
   ],
   "source": [
    "import yfinance as yf\n",
    "import pandas as pd\n",
    "import talib as ta\n",
    "import numpy as np\n",
    "# Obtener precios de cierre de las acciones de Apple\n",
    "prices = yf.download('AAPL', start='2010-01-01', end='2020-01-01')[['Close']]\n",
    "print(prices.head())\n",
    "\n",
    "sma_50 = prices['Close'].rolling(window=50).mean()\n",
    "sma_200 = prices['Close'].rolling(window=200).mean()\n",
    "\n",
    "# Obtener señales de compra y venta\n",
    "signals = pd.Series(0, index=prices.index)\n",
    "signals[sma_50 > sma_200] = 1 # Señal de compra\n",
    "signals[sma_50 < sma_200] = -1 # Señal de venta"
   ]
  },
  {
   "cell_type": "code",
   "execution_count": 13,
   "metadata": {},
   "outputs": [
    {
     "data": {
      "text/plain": [
       " 1    1775\n",
       "-1     542\n",
       " 0     199\n",
       "dtype: int64"
      ]
     },
     "execution_count": 13,
     "metadata": {},
     "output_type": "execute_result"
    }
   ],
   "source": [
    "# Count number of signals\n",
    "signals.value_counts()"
   ]
  },
  {
   "cell_type": "code",
   "execution_count": 14,
   "metadata": {},
   "outputs": [],
   "source": [
    "macd, macd_signal, macd_hist = ta.MACD(prices['Close'].values, fastperiod=12, slowperiod=26, signalperiod=9)\n",
    "\n",
    "# Obtener señales de compra y venta\n",
    "signals = pd.Series(0, index=prices.index)\n",
    "signals[macd > macd_signal] = 1 # Señal de compra\n",
    "signals[macd < macd_signal] = -1 # Señal de venta\n",
    "\n",
    "# Agregar señal de espera o mantener la posición actual\n",
    "signals[np.absolute(macd - macd_signal) < 0.05] = 0"
   ]
  },
  {
   "cell_type": "code",
   "execution_count": 16,
   "metadata": {},
   "outputs": [
    {
     "data": {
      "text/plain": [
       " 0    879\n",
       " 1    855\n",
       "-1    782\n",
       "dtype: int64"
      ]
     },
     "execution_count": 16,
     "metadata": {},
     "output_type": "execute_result"
    }
   ],
   "source": [
    "# Count number of signals\n",
    "signals.value_counts()"
   ]
  },
  {
   "cell_type": "code",
   "execution_count": 23,
   "metadata": {},
   "outputs": [],
   "source": [
    "rsi = ta.RSI(prices['Close'].values, timeperiod=14)\n",
    "\n",
    "rsi = pd.Series(rsi, index=prices.index)\n",
    "\n",
    "# Obtener señales de compra y venta\n",
    "signals = pd.Series(0, index=prices.index)\n",
    "signals[(rsi > 50) & (rsi.shift(1) <= 50)] = 1 # Señal de compra\n",
    "signals[(rsi < 50) & (rsi.shift(1) >= 50)] = -1 # Señal de venta\n",
    "\n",
    "# Agregar señal de espera o mantener la posición actual"
   ]
  },
  {
   "cell_type": "code",
   "execution_count": 25,
   "metadata": {},
   "outputs": [
    {
     "data": {
      "text/plain": [
       " 0    2267\n",
       " 1     125\n",
       "-1     124\n",
       "dtype: int64"
      ]
     },
     "execution_count": 25,
     "metadata": {},
     "output_type": "execute_result"
    }
   ],
   "source": [
    "signals.value_counts()"
   ]
  },
  {
   "cell_type": "code",
   "execution_count": null,
   "metadata": {},
   "outputs": [],
   "source": []
  }
 ],
 "metadata": {
  "kernelspec": {
   "display_name": "python_3.7",
   "language": "python",
   "name": "python3"
  },
  "language_info": {
   "codemirror_mode": {
    "name": "ipython",
    "version": 3
   },
   "file_extension": ".py",
   "mimetype": "text/x-python",
   "name": "python",
   "nbconvert_exporter": "python",
   "pygments_lexer": "ipython3",
   "version": "3.7.13"
  },
  "orig_nbformat": 4
 },
 "nbformat": 4,
 "nbformat_minor": 2
}
